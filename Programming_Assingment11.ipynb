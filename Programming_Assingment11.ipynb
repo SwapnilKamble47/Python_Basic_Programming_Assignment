{
  "nbformat": 4,
  "nbformat_minor": 0,
  "metadata": {
    "colab": {
      "provenance": []
    },
    "kernelspec": {
      "name": "python3",
      "display_name": "Python 3"
    },
    "language_info": {
      "name": "python"
    }
  },
  "cells": [
    {
      "cell_type": "markdown",
      "source": [
        "#Python Basic Programming Assignment 11"
      ],
      "metadata": {
        "id": "l_SeIJSto_Jk"
      }
    },
    {
      "cell_type": "code",
      "source": [
        "# 1.\tWrite a Python program to find words which are greater than given length k?\n",
        "word1 = [\"Hii\", \"My\", \"Name\", \"is\", \"Swapnil\"]\n",
        "K = 3\n",
        "print(f\"Words Greater than length {K} are:\")\n",
        "for i in word1:\n",
        "  if len(i)>K:\n",
        "    print(i)"
      ],
      "metadata": {
        "colab": {
          "base_uri": "https://localhost:8080/"
        },
        "id": "3OCGvWhZpGrh",
        "outputId": "4386e34b-821e-46d1-faa5-ed8a6face455"
      },
      "execution_count": 77,
      "outputs": [
        {
          "output_type": "stream",
          "name": "stdout",
          "text": [
            "Words Greater than length 3 are:\n",
            "Name\n",
            "Swapnil\n"
          ]
        }
      ]
    },
    {
      "cell_type": "code",
      "source": [
        "# 2.\tWrite a Python program for removing i-th character from a string?\n",
        "S = \"Swapnil\"\n",
        "S1 = \"\"\n",
        "delet = 3 # Delete 2nd Character\n",
        "delet1 = S[delet-1]\n",
        "for i in S:\n",
        "  if i != delet1:\n",
        "    S1 += i\n",
        "print(S1)"
      ],
      "metadata": {
        "colab": {
          "base_uri": "https://localhost:8080/"
        },
        "id": "q4iiAUVcpT9t",
        "outputId": "22a380f5-8993-4615-c9df-c2e452991964"
      },
      "execution_count": 15,
      "outputs": [
        {
          "output_type": "stream",
          "name": "stdout",
          "text": [
            "Swpnil\n"
          ]
        }
      ]
    },
    {
      "cell_type": "code",
      "source": [
        "# 3.\tWrite a Python program to split and join a string?\n",
        "S = \"Swapnil Dilip Kamble\"\n",
        "S1 = S.split(' ')\n",
        "print(f\"Splited String is:\\n {S1} \")\n",
        "l = ['Join', 'The', 'String']\n",
        "S2 = ' '.join(l)\n",
        "print(f\"Joined String is: \\n {S2} \")"
      ],
      "metadata": {
        "colab": {
          "base_uri": "https://localhost:8080/"
        },
        "id": "63caSgyUpe5Y",
        "outputId": "9c07227e-cc4b-499f-8b2d-002596c75f93"
      },
      "execution_count": 29,
      "outputs": [
        {
          "output_type": "stream",
          "name": "stdout",
          "text": [
            "Splited String is:\n",
            " ['Swapnil', 'Dilip', 'Kamble'] \n",
            "Joined String is: \n",
            " Join The String \n"
          ]
        }
      ]
    },
    {
      "cell_type": "code",
      "source": [
        "# 4.\tWrite a Python to check if a given string is binary string or not?\n",
        "S = \"10101010101\"\n",
        "for i in S:\n",
        "  if i == \"0\" or i == \"1\":\n",
        "    result = True\n",
        "  else:\n",
        "    result = False\n",
        "    break\n",
        "if result == True:\n",
        "  print(\"Its Binary string\")\n",
        "else:\n",
        "  print(\"it's not Binary string\")\n"
      ],
      "metadata": {
        "colab": {
          "base_uri": "https://localhost:8080/"
        },
        "id": "l0ETkL6M2qeW",
        "outputId": "1801f8a4-bb4a-4219-e695-080361885b2c"
      },
      "execution_count": 50,
      "outputs": [
        {
          "output_type": "stream",
          "name": "stdout",
          "text": [
            "Its Binary string\n"
          ]
        }
      ]
    },
    {
      "cell_type": "code",
      "source": [
        "# 5.\tWrite a Python program to find uncommon words from two Strings?\n",
        "S1 = \"abcdefghijk\"\n",
        "S2 = \"ijklmnopab\"\n",
        "uncomon = \"\"\n",
        "for i in S1:  \n",
        "    if i not in S2:\n",
        "      uncomon += i\n",
        "for j in S2:\n",
        "  if j not in S1:\n",
        "      uncomon += j\n",
        "print(f\"uncommon wornds in S1 & S2 String are: \\n {uncomon} \")"
      ],
      "metadata": {
        "colab": {
          "base_uri": "https://localhost:8080/"
        },
        "id": "02R8rx4R3CNU",
        "outputId": "b287da7b-fb22-4e66-d99d-f17061548403"
      },
      "execution_count": 60,
      "outputs": [
        {
          "output_type": "stream",
          "name": "stdout",
          "text": [
            "uncommon wornds in S1 & S2 String are: \n",
            " cdefghlmnop \n"
          ]
        }
      ]
    },
    {
      "cell_type": "code",
      "source": [
        "# 6.\tWrite a Python to find all duplicate characters in string?\n",
        "S1 = \"abcdefghijk\"\n",
        "S2 = \"ijklmnopab\"\n",
        "dupl= \"\"\n",
        "for i in S1:  \n",
        "    if i in S2:\n",
        "      dupl += i\n",
        "print(\"Duplicate characters are:\", dupl)"
      ],
      "metadata": {
        "colab": {
          "base_uri": "https://localhost:8080/"
        },
        "id": "xWlriF_I6sc4",
        "outputId": "701c6d48-dbba-48cc-9517-09fbfbc3f31a"
      },
      "execution_count": 63,
      "outputs": [
        {
          "output_type": "stream",
          "name": "stdout",
          "text": [
            "Duplicate characters are: abijk\n"
          ]
        }
      ]
    },
    {
      "cell_type": "code",
      "source": [
        "# 7.\tWrite a Python Program to check if a string contains any special character?\n",
        "#spl = [\"!\", \", \", \"#\", '$', \"%\", \"&\", \" ' \", \"(\", \")\", \"*\", \"+\", \",\" , \"-\", \".\", \"/\", \":\", \";\" , \"<\", \"=\", >\", ?, @, [, \\, ], ^, _, `, {, |, }, ~,]\n",
        "spl = \"'[@_!#$%^&*()<>?/\\|}{~:]'\"\n",
        "S1 = \"Sw@pn%l\"\n",
        "spl1 = \"\"\n",
        "for i in spl:\n",
        "  if i in S1:\n",
        "    spl1 += i\n",
        "print(f\"Special Characher in given String are: {spl1}\")"
      ],
      "metadata": {
        "colab": {
          "base_uri": "https://localhost:8080/"
        },
        "id": "QnLUns-M8K5C",
        "outputId": "7b2bfaf5-ecbf-489e-867e-fe207d7458d3"
      },
      "execution_count": 73,
      "outputs": [
        {
          "output_type": "stream",
          "name": "stdout",
          "text": [
            "Special Characher in given String are: @%\n"
          ]
        }
      ]
    },
    {
      "cell_type": "code",
      "source": [],
      "metadata": {
        "id": "krhWlhZQ85Wx"
      },
      "execution_count": null,
      "outputs": []
    }
  ]
}