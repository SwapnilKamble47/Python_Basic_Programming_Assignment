{
  "nbformat": 4,
  "nbformat_minor": 0,
  "metadata": {
    "colab": {
      "provenance": []
    },
    "kernelspec": {
      "name": "python3",
      "display_name": "Python 3"
    },
    "language_info": {
      "name": "python"
    }
  },
  "cells": [
    {
      "cell_type": "markdown",
      "source": [
        "Question 1:\n",
        "\n",
        "Write a program that calculates and prints the value according to the given formula:\n",
        "\n",
        "Q = Square root of [(2 * C * D)/H]\n",
        "\n",
        "Following are the fixed values of C and H:\n",
        "\n",
        "C is 50. H is 30.\n",
        "\n",
        "D is the variable whose values should be input to your program in a comma-separated sequence.\n",
        "\n",
        "Example\n",
        "\n",
        "Let us assume the following comma separated input sequence is given to the program:\n",
        "\n",
        "100,150,180\n",
        "\n",
        "The output of the program should be:\n",
        "\n",
        "18,22,24 :q"
      ],
      "metadata": {
        "id": "yvVEb3rY96pR"
      }
    },
    {
      "cell_type": "code",
      "source": [
        "C = 50\n",
        "H = 30\n",
        "D = []\n",
        "Q = []\n",
        "inp = input(\"Enter Nembers in ',' Seprrated:\\n \")\n",
        "for i in inp.split(\",\"):\n",
        "  D.append(int(i))\n",
        "for j in D:\n",
        " # print(j)\n",
        " # print(type(j))\n",
        "  A = ((2 * C * j)/H) ** (1/2)\n",
        "  Q.append(int(A))\n",
        "print(f\"\\nFor Input: {D}\\nResult is: {Q}\")"
      ],
      "metadata": {
        "colab": {
          "base_uri": "https://localhost:8080/"
        },
        "id": "TaJ8gBtw-WTm",
        "outputId": "894e8f7d-70fe-4dae-cc64-2da0e70ba6ab"
      },
      "execution_count": 31,
      "outputs": [
        {
          "output_type": "stream",
          "name": "stdout",
          "text": [
            "Enter Nembers in ',' Seprrated:\n",
            " 100,150,180\n",
            "\n",
            "For Input: [100, 150, 180]\n",
            "Result is: [18, 22, 24]\n"
          ]
        }
      ]
    },
    {
      "cell_type": "markdown",
      "source": [
        "Question 2:\n",
        "Write a program which takes 2 digits, X,Y as input and generates a 2-dimensional array. The element value in the i-th row and j-th column of the array should be i*j.\n",
        "\n",
        "Note: i=0,1.., X-1; j=0,1,¡¬Y-1.\n",
        "\n",
        "Example\n",
        "\n",
        "Suppose the following inputs are given to the program:\n",
        "\n",
        "3,5\n",
        "\n",
        "Then, the output of the program should be:\n",
        "\n",
        "[[0, 0, 0, 0, 0], [0, 1, 2, 3, 4], [0, 2, 4, 6, 8]] \n"
      ],
      "metadata": {
        "id": "HSePphRxEYPo"
      }
    },
    {
      "cell_type": "code",
      "source": [
        "x = int(input(\"Enter X: \"))\n",
        "y = int(input(\"Enter Y: \"))\n",
        "print(\"Result is:\")\n",
        "for i in range(x):\n",
        "  l = []\n",
        "  for j in range(y):\n",
        "    l.append(i*j)\n",
        "  print(f\" {l}\")"
      ],
      "metadata": {
        "colab": {
          "base_uri": "https://localhost:8080/"
        },
        "id": "Wx01-LBO_lbM",
        "outputId": "fe7dda08-ea92-4d2e-d61f-b96118d56d6e"
      },
      "execution_count": 42,
      "outputs": [
        {
          "output_type": "stream",
          "name": "stdout",
          "text": [
            "Enter X: 3\n",
            "Enter Y: 5\n",
            "Result is:\n",
            " [0, 0, 0, 0, 0]\n",
            " [0, 1, 2, 3, 4]\n",
            " [0, 2, 4, 6, 8]\n"
          ]
        }
      ]
    },
    {
      "cell_type": "markdown",
      "source": [
        "Question 3:\n",
        "Write a program that accepts a comma separated sequence of words as input and prints the words in a comma-separated sequence after sorting them alphabetically.\n",
        "\n",
        "Suppose the following input is supplied to the program:\n",
        "\n",
        "without,hello,bag,world\n",
        "\n",
        "Then, the output should be:\n",
        "\n",
        "bag,hello,without,world"
      ],
      "metadata": {
        "id": "OBRzpPj9GoCG"
      }
    },
    {
      "cell_type": "code",
      "source": [
        "inp = input(\"Enter Sequence in Comma Seprated form: \")\n",
        "l = inp.split(',')\n",
        "l.sort()\n",
        "print(f\"After Sorting Alphabetically: {l}\")"
      ],
      "metadata": {
        "colab": {
          "base_uri": "https://localhost:8080/"
        },
        "id": "O1FUGHLNGnEk",
        "outputId": "fa141010-18b9-467c-f3b2-cd30f8c841b5"
      },
      "execution_count": 53,
      "outputs": [
        {
          "output_type": "stream",
          "name": "stdout",
          "text": [
            "Enter Sequence in Comma Seprated form: without,hello,bag,world\n",
            "After Sorting Alphabetically: ['bag', 'hello', 'without', 'world']\n"
          ]
        }
      ]
    },
    {
      "cell_type": "markdown",
      "source": [
        "Question 4:\n",
        "Write a program that accepts a sequence of whitespace separated words as input and prints the words after removing all duplicate words and sorting them alphanumerically.\n",
        "\n",
        "Suppose the following input is supplied to the program:\n",
        "\n",
        "hello world and practice makes perfect and hello world again\n",
        "\n",
        "Then, the output should be:\n",
        "\n",
        "again and hello makes perfect practice world"
      ],
      "metadata": {
        "id": "IJGp3-QUKa4V"
      }
    },
    {
      "cell_type": "code",
      "source": [
        "inp = input(\"Enter Sequence in Comma Seprated form:\\n \")\n",
        "l = inp.split(' ')\n",
        "l1 = set(l)\n",
        "l2 = list(l1)\n",
        "l2.sort()\n",
        "print(f\"After Sorting Alphabetically: {l2}\")"
      ],
      "metadata": {
        "colab": {
          "base_uri": "https://localhost:8080/"
        },
        "id": "ujfVHvtQEi0e",
        "outputId": "779237fe-0213-4718-ee78-1e08aa4d81f8"
      },
      "execution_count": 61,
      "outputs": [
        {
          "output_type": "stream",
          "name": "stdout",
          "text": [
            "Enter Sequence in Comma Seprated form:\n",
            " hello world and practice makes perfect and hello world again\n",
            "After Sorting Alphabetically: ['again', 'and', 'hello', 'makes', 'perfect', 'practice', 'world']\n"
          ]
        }
      ]
    },
    {
      "cell_type": "code",
      "source": [],
      "metadata": {
        "id": "nz3ZtOnUKBUo"
      },
      "execution_count": null,
      "outputs": []
    },
    {
      "cell_type": "markdown",
      "source": [
        "Question 5:\n",
        "Write a program that accepts a sentence and calculate the number of letters and digits.\n",
        "\n",
        "Suppose the following input is supplied to the program:\n",
        "\n",
        "hello world! 123\n",
        "\n",
        "Then, the output should be:\n",
        "\n",
        "LETTERS 10\n",
        "\n",
        "DIGITS 3"
      ],
      "metadata": {
        "id": "LudUCIGpL6ZP"
      }
    },
    {
      "cell_type": "code",
      "source": [
        "inp = input(\"Enter: \")\n",
        "C1 = 0\n",
        "C2 = 0\n",
        "for i in inp:\n",
        "  if i.isalpha():\n",
        "    C1 += 1\n",
        "  elif i.isnumeric():\n",
        "        C2 += 1\n",
        "print(f\"LETTERS {C1} , DIGITS {C2}\")"
      ],
      "metadata": {
        "colab": {
          "base_uri": "https://localhost:8080/"
        },
        "id": "jsd8Wa4UMYEX",
        "outputId": "0e191e9d-6648-4851-9ef1-4184be07c4a5"
      },
      "execution_count": 83,
      "outputs": [
        {
          "output_type": "stream",
          "name": "stdout",
          "text": [
            "Enter: hello world! 123\n",
            "LETTERS 10 , DIGITS 3\n"
          ]
        }
      ]
    },
    {
      "cell_type": "code",
      "source": [],
      "metadata": {
        "id": "OV_bO8b9QqXf"
      },
      "execution_count": null,
      "outputs": []
    },
    {
      "cell_type": "markdown",
      "source": [
        "Question 6:\n",
        "A website requires the users to input username and password to register. Write a program to check the validity of password input by users.\n",
        "\n",
        "Following are the criteria for checking the password:\n",
        "\n",
        "1. At least 1 letter between [a-z]\n",
        "\n",
        "2. At least 1 number between [0-9]\n",
        "\n",
        "1. At least 1 letter between [A-Z]\n",
        "\n",
        "3. At least 1 character from [$#@]\n",
        "\n",
        "4. Minimum length of transaction password: 6\n",
        "\n",
        "5. Maximum length of transaction password: 12\n",
        "\n",
        "Your program should accept a sequence of comma separated passwords and will check them according to the above criteria. Passwords that match the criteria are to be printed, each separated by a comma.\n",
        "\n",
        "Example\n",
        "\n",
        "If the following passwords are given as input to the program:\n",
        "\n",
        "ABd1234@1,a F1#,2w3E*,2We3345\n",
        "\n",
        "Then, the output of the program should be:\n",
        "\n",
        "ABd1234@1"
      ],
      "metadata": {
        "id": "haPiaGf_RMsb"
      }
    },
    {
      "cell_type": "code",
      "source": [
        "import string\n",
        "text=input(\"Enter: \")\n",
        "\n",
        "l1 = text.split(',')\n",
        "for j in l1:\n",
        "  small_Letter = 0\n",
        "  dgt = 0\n",
        "  caps_Letter = 0\n",
        "  spl = 0\n",
        "  if len(j) > 5 and len(j) < 13:  \n",
        "    for i in j:\n",
        "      if i in string.ascii_lowercase:\n",
        "       small_Letter += 1\n",
        "      elif i in string.digits:\n",
        "        dgt += 1\n",
        "      elif i in string.ascii_uppercase:\n",
        "       caps_Letter += 1\n",
        "      elif i == '$' or i == '#' or i == '@':\n",
        "        spl +=1\n",
        "  if small_Letter > 0 and dgt > 0 and caps_Letter > 0 and spl > 0:\n",
        "    print(f\"Acceptable Password is: {j}\")"
      ],
      "metadata": {
        "colab": {
          "base_uri": "https://localhost:8080/"
        },
        "id": "53wkGtSJRu54",
        "outputId": "478776a5-abda-4343-ab06-e375c4e49328"
      },
      "execution_count": 128,
      "outputs": [
        {
          "output_type": "stream",
          "name": "stdout",
          "text": [
            "Enter: ABd1234@1,a F1#,2w3E*,2We3345\n",
            "Acceptable Password is: ABd1234@1\n"
          ]
        }
      ]
    },
    {
      "cell_type": "code",
      "source": [],
      "metadata": {
        "id": "5lY-GNvYSeVL"
      },
      "execution_count": 118,
      "outputs": []
    }
  ]
}